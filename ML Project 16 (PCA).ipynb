{
 "cells": [
  {
   "cell_type": "markdown",
   "id": "f178a919-88e8-48cf-b725-873e035797a4",
   "metadata": {},
   "source": [
    "# ML Project 16"
   ]
  },
  {
   "cell_type": "code",
   "execution_count": null,
   "id": "6e0090a1-15ab-4b1e-abd8-1412e037e8f2",
   "metadata": {},
   "outputs": [],
   "source": []
  },
  {
   "cell_type": "markdown",
   "id": "b383b692-1b51-4993-945f-fca5b0a0478c",
   "metadata": {},
   "source": [
    "## Importing Libraries and Data"
   ]
  },
  {
   "cell_type": "code",
   "execution_count": 2,
   "id": "00534f60-a677-41e0-ada7-952684877242",
   "metadata": {},
   "outputs": [],
   "source": [
    "import os \n",
    "os.chdir(\"C:/Users/ogulc/ÖNEMLİ ÇALIŞMALAR\")"
   ]
  },
  {
   "cell_type": "code",
   "execution_count": 3,
   "id": "36407b48-c766-4a2a-89b3-812ef958da4c",
   "metadata": {},
   "outputs": [],
   "source": [
    "import pandas as pd \n",
    "import numpy as np\n",
    "import seaborn as sns\n",
    "import matplotlib.pyplot as plt\n",
    "from sklearn.preprocessing import LabelEncoder, OneHotEncoder, StandardScaler\n",
    "from sklearn.model_selection import train_test_split\n",
    "#Model\n",
    "#Değerlendirme metrikleri"
   ]
  },
  {
   "cell_type": "code",
   "execution_count": 4,
   "id": "43dbecb1-ef8c-481a-b386-f216f42c974e",
   "metadata": {},
   "outputs": [
    {
     "name": "stdout",
     "output_type": "stream",
     "text": [
      "exercise veri setinin boyutu (15000, 8) \n",
      " calories veri setinin boyutu (15000, 2)\n"
     ]
    }
   ],
   "source": [
    "exercise = pd.read_csv(\"exercise.csv\")\n",
    "calories = pd.read_csv(\"calories.csv\")\n",
    "\n",
    "print(f\"exercise veri setinin boyutu {exercise.shape}\", \"\\n\", f\"calories veri setinin boyutu {calories.shape}\")"
   ]
  },
  {
   "cell_type": "code",
   "execution_count": 5,
   "id": "ed228920-7840-4599-84a4-91354a769bc5",
   "metadata": {},
   "outputs": [
    {
     "data": {
      "text/html": [
       "<div>\n",
       "<style scoped>\n",
       "    .dataframe tbody tr th:only-of-type {\n",
       "        vertical-align: middle;\n",
       "    }\n",
       "\n",
       "    .dataframe tbody tr th {\n",
       "        vertical-align: top;\n",
       "    }\n",
       "\n",
       "    .dataframe thead th {\n",
       "        text-align: right;\n",
       "    }\n",
       "</style>\n",
       "<table border=\"1\" class=\"dataframe\">\n",
       "  <thead>\n",
       "    <tr style=\"text-align: right;\">\n",
       "      <th></th>\n",
       "      <th>User_ID</th>\n",
       "      <th>Gender</th>\n",
       "      <th>Age</th>\n",
       "      <th>Height</th>\n",
       "      <th>Weight</th>\n",
       "      <th>Duration</th>\n",
       "      <th>Heart_Rate</th>\n",
       "      <th>Body_Temp</th>\n",
       "    </tr>\n",
       "  </thead>\n",
       "  <tbody>\n",
       "    <tr>\n",
       "      <th>0</th>\n",
       "      <td>14733363</td>\n",
       "      <td>male</td>\n",
       "      <td>68</td>\n",
       "      <td>190.0</td>\n",
       "      <td>94.0</td>\n",
       "      <td>29.0</td>\n",
       "      <td>105.0</td>\n",
       "      <td>40.8</td>\n",
       "    </tr>\n",
       "    <tr>\n",
       "      <th>1</th>\n",
       "      <td>14861698</td>\n",
       "      <td>female</td>\n",
       "      <td>20</td>\n",
       "      <td>166.0</td>\n",
       "      <td>60.0</td>\n",
       "      <td>14.0</td>\n",
       "      <td>94.0</td>\n",
       "      <td>40.3</td>\n",
       "    </tr>\n",
       "    <tr>\n",
       "      <th>2</th>\n",
       "      <td>11179863</td>\n",
       "      <td>male</td>\n",
       "      <td>69</td>\n",
       "      <td>179.0</td>\n",
       "      <td>79.0</td>\n",
       "      <td>5.0</td>\n",
       "      <td>88.0</td>\n",
       "      <td>38.7</td>\n",
       "    </tr>\n",
       "  </tbody>\n",
       "</table>\n",
       "</div>"
      ],
      "text/plain": [
       "    User_ID  Gender  Age  Height  Weight  Duration  Heart_Rate  Body_Temp\n",
       "0  14733363    male   68   190.0    94.0      29.0       105.0       40.8\n",
       "1  14861698  female   20   166.0    60.0      14.0        94.0       40.3\n",
       "2  11179863    male   69   179.0    79.0       5.0        88.0       38.7"
      ]
     },
     "execution_count": 5,
     "metadata": {},
     "output_type": "execute_result"
    }
   ],
   "source": [
    "exercise.head(3)"
   ]
  },
  {
   "cell_type": "code",
   "execution_count": 6,
   "id": "054555a9-9db2-4b41-8dde-ad7137fc9b00",
   "metadata": {},
   "outputs": [
    {
     "data": {
      "text/html": [
       "<div>\n",
       "<style scoped>\n",
       "    .dataframe tbody tr th:only-of-type {\n",
       "        vertical-align: middle;\n",
       "    }\n",
       "\n",
       "    .dataframe tbody tr th {\n",
       "        vertical-align: top;\n",
       "    }\n",
       "\n",
       "    .dataframe thead th {\n",
       "        text-align: right;\n",
       "    }\n",
       "</style>\n",
       "<table border=\"1\" class=\"dataframe\">\n",
       "  <thead>\n",
       "    <tr style=\"text-align: right;\">\n",
       "      <th></th>\n",
       "      <th>User_ID</th>\n",
       "      <th>Calories</th>\n",
       "    </tr>\n",
       "  </thead>\n",
       "  <tbody>\n",
       "    <tr>\n",
       "      <th>0</th>\n",
       "      <td>14733363</td>\n",
       "      <td>231.0</td>\n",
       "    </tr>\n",
       "    <tr>\n",
       "      <th>1</th>\n",
       "      <td>14861698</td>\n",
       "      <td>66.0</td>\n",
       "    </tr>\n",
       "    <tr>\n",
       "      <th>2</th>\n",
       "      <td>11179863</td>\n",
       "      <td>26.0</td>\n",
       "    </tr>\n",
       "  </tbody>\n",
       "</table>\n",
       "</div>"
      ],
      "text/plain": [
       "    User_ID  Calories\n",
       "0  14733363     231.0\n",
       "1  14861698      66.0\n",
       "2  11179863      26.0"
      ]
     },
     "execution_count": 6,
     "metadata": {},
     "output_type": "execute_result"
    }
   ],
   "source": [
    "calories.head(3)"
   ]
  },
  {
   "cell_type": "code",
   "execution_count": 7,
   "id": "b3ee6e7e-7d0a-4fb6-b7cd-87adb9502e16",
   "metadata": {},
   "outputs": [],
   "source": [
    "project_16 = pd.merge(exercise, calories, on = \"User_ID\", how = \"inner\")\n",
    "project_16 = project_16.drop(columns = \"User_ID\", axis = 1)"
   ]
  },
  {
   "cell_type": "code",
   "execution_count": 8,
   "id": "98d79557-df38-47f2-8435-8f4caed28cb1",
   "metadata": {},
   "outputs": [
    {
     "data": {
      "text/html": [
       "<div>\n",
       "<style scoped>\n",
       "    .dataframe tbody tr th:only-of-type {\n",
       "        vertical-align: middle;\n",
       "    }\n",
       "\n",
       "    .dataframe tbody tr th {\n",
       "        vertical-align: top;\n",
       "    }\n",
       "\n",
       "    .dataframe thead th {\n",
       "        text-align: right;\n",
       "    }\n",
       "</style>\n",
       "<table border=\"1\" class=\"dataframe\">\n",
       "  <thead>\n",
       "    <tr style=\"text-align: right;\">\n",
       "      <th></th>\n",
       "      <th>Gender</th>\n",
       "      <th>Age</th>\n",
       "      <th>Height</th>\n",
       "      <th>Weight</th>\n",
       "      <th>Duration</th>\n",
       "      <th>Heart_Rate</th>\n",
       "      <th>Body_Temp</th>\n",
       "      <th>Calories</th>\n",
       "    </tr>\n",
       "  </thead>\n",
       "  <tbody>\n",
       "    <tr>\n",
       "      <th>0</th>\n",
       "      <td>male</td>\n",
       "      <td>68</td>\n",
       "      <td>190.0</td>\n",
       "      <td>94.0</td>\n",
       "      <td>29.0</td>\n",
       "      <td>105.0</td>\n",
       "      <td>40.8</td>\n",
       "      <td>231.0</td>\n",
       "    </tr>\n",
       "    <tr>\n",
       "      <th>1</th>\n",
       "      <td>female</td>\n",
       "      <td>20</td>\n",
       "      <td>166.0</td>\n",
       "      <td>60.0</td>\n",
       "      <td>14.0</td>\n",
       "      <td>94.0</td>\n",
       "      <td>40.3</td>\n",
       "      <td>66.0</td>\n",
       "    </tr>\n",
       "    <tr>\n",
       "      <th>2</th>\n",
       "      <td>male</td>\n",
       "      <td>69</td>\n",
       "      <td>179.0</td>\n",
       "      <td>79.0</td>\n",
       "      <td>5.0</td>\n",
       "      <td>88.0</td>\n",
       "      <td>38.7</td>\n",
       "      <td>26.0</td>\n",
       "    </tr>\n",
       "    <tr>\n",
       "      <th>3</th>\n",
       "      <td>female</td>\n",
       "      <td>34</td>\n",
       "      <td>179.0</td>\n",
       "      <td>71.0</td>\n",
       "      <td>13.0</td>\n",
       "      <td>100.0</td>\n",
       "      <td>40.5</td>\n",
       "      <td>71.0</td>\n",
       "    </tr>\n",
       "    <tr>\n",
       "      <th>4</th>\n",
       "      <td>female</td>\n",
       "      <td>27</td>\n",
       "      <td>154.0</td>\n",
       "      <td>58.0</td>\n",
       "      <td>10.0</td>\n",
       "      <td>81.0</td>\n",
       "      <td>39.8</td>\n",
       "      <td>35.0</td>\n",
       "    </tr>\n",
       "    <tr>\n",
       "      <th>...</th>\n",
       "      <td>...</td>\n",
       "      <td>...</td>\n",
       "      <td>...</td>\n",
       "      <td>...</td>\n",
       "      <td>...</td>\n",
       "      <td>...</td>\n",
       "      <td>...</td>\n",
       "      <td>...</td>\n",
       "    </tr>\n",
       "    <tr>\n",
       "      <th>14995</th>\n",
       "      <td>female</td>\n",
       "      <td>20</td>\n",
       "      <td>193.0</td>\n",
       "      <td>86.0</td>\n",
       "      <td>11.0</td>\n",
       "      <td>92.0</td>\n",
       "      <td>40.4</td>\n",
       "      <td>45.0</td>\n",
       "    </tr>\n",
       "    <tr>\n",
       "      <th>14996</th>\n",
       "      <td>female</td>\n",
       "      <td>27</td>\n",
       "      <td>165.0</td>\n",
       "      <td>65.0</td>\n",
       "      <td>6.0</td>\n",
       "      <td>85.0</td>\n",
       "      <td>39.2</td>\n",
       "      <td>23.0</td>\n",
       "    </tr>\n",
       "    <tr>\n",
       "      <th>14997</th>\n",
       "      <td>female</td>\n",
       "      <td>43</td>\n",
       "      <td>159.0</td>\n",
       "      <td>58.0</td>\n",
       "      <td>16.0</td>\n",
       "      <td>90.0</td>\n",
       "      <td>40.1</td>\n",
       "      <td>75.0</td>\n",
       "    </tr>\n",
       "    <tr>\n",
       "      <th>14998</th>\n",
       "      <td>male</td>\n",
       "      <td>78</td>\n",
       "      <td>193.0</td>\n",
       "      <td>97.0</td>\n",
       "      <td>2.0</td>\n",
       "      <td>84.0</td>\n",
       "      <td>38.3</td>\n",
       "      <td>11.0</td>\n",
       "    </tr>\n",
       "    <tr>\n",
       "      <th>14999</th>\n",
       "      <td>male</td>\n",
       "      <td>63</td>\n",
       "      <td>173.0</td>\n",
       "      <td>79.0</td>\n",
       "      <td>18.0</td>\n",
       "      <td>92.0</td>\n",
       "      <td>40.5</td>\n",
       "      <td>98.0</td>\n",
       "    </tr>\n",
       "  </tbody>\n",
       "</table>\n",
       "<p>15000 rows × 8 columns</p>\n",
       "</div>"
      ],
      "text/plain": [
       "       Gender  Age  Height  Weight  Duration  Heart_Rate  Body_Temp  Calories\n",
       "0        male   68   190.0    94.0      29.0       105.0       40.8     231.0\n",
       "1      female   20   166.0    60.0      14.0        94.0       40.3      66.0\n",
       "2        male   69   179.0    79.0       5.0        88.0       38.7      26.0\n",
       "3      female   34   179.0    71.0      13.0       100.0       40.5      71.0\n",
       "4      female   27   154.0    58.0      10.0        81.0       39.8      35.0\n",
       "...       ...  ...     ...     ...       ...         ...        ...       ...\n",
       "14995  female   20   193.0    86.0      11.0        92.0       40.4      45.0\n",
       "14996  female   27   165.0    65.0       6.0        85.0       39.2      23.0\n",
       "14997  female   43   159.0    58.0      16.0        90.0       40.1      75.0\n",
       "14998    male   78   193.0    97.0       2.0        84.0       38.3      11.0\n",
       "14999    male   63   173.0    79.0      18.0        92.0       40.5      98.0\n",
       "\n",
       "[15000 rows x 8 columns]"
      ]
     },
     "execution_count": 8,
     "metadata": {},
     "output_type": "execute_result"
    }
   ],
   "source": [
    "project_16"
   ]
  },
  {
   "cell_type": "markdown",
   "id": "2fbdb2d2-a76b-49f9-bc67-2e8648fd4791",
   "metadata": {},
   "source": [
    "## Analysing and Visualization Data (EDA)"
   ]
  },
  {
   "cell_type": "markdown",
   "id": "4ef15930-ef35-4cbc-a507-3c6be05c4916",
   "metadata": {
    "jp-MarkdownHeadingCollapsed": true
   },
   "source": [
    "### .info()"
   ]
  },
  {
   "cell_type": "code",
   "execution_count": 9,
   "id": "d214094a-ef1d-4d43-9f14-307701c42166",
   "metadata": {},
   "outputs": [
    {
     "name": "stdout",
     "output_type": "stream",
     "text": [
      "<class 'pandas.core.frame.DataFrame'>\n",
      "RangeIndex: 15000 entries, 0 to 14999\n",
      "Data columns (total 8 columns):\n",
      " #   Column      Non-Null Count  Dtype  \n",
      "---  ------      --------------  -----  \n",
      " 0   Gender      15000 non-null  object \n",
      " 1   Age         15000 non-null  int64  \n",
      " 2   Height      15000 non-null  float64\n",
      " 3   Weight      15000 non-null  float64\n",
      " 4   Duration    15000 non-null  float64\n",
      " 5   Heart_Rate  15000 non-null  float64\n",
      " 6   Body_Temp   15000 non-null  float64\n",
      " 7   Calories    15000 non-null  float64\n",
      "dtypes: float64(6), int64(1), object(1)\n",
      "memory usage: 937.6+ KB\n"
     ]
    }
   ],
   "source": [
    "#.info()\n",
    "project_16.info()"
   ]
  },
  {
   "cell_type": "markdown",
   "id": "33a9ca47-0f1a-415c-bd55-4b58c53de4f7",
   "metadata": {
    "jp-MarkdownHeadingCollapsed": true
   },
   "source": [
    "### .shape"
   ]
  },
  {
   "cell_type": "code",
   "execution_count": 10,
   "id": "2786c26d-2347-4adf-9984-cc7c7c4f7cbe",
   "metadata": {},
   "outputs": [
    {
     "data": {
      "text/plain": [
       "(15000, 8)"
      ]
     },
     "execution_count": 10,
     "metadata": {},
     "output_type": "execute_result"
    }
   ],
   "source": [
    "#.shape\n",
    "project_16.shape"
   ]
  },
  {
   "cell_type": "markdown",
   "id": "207781a4-dd12-44e1-8436-194d74663b6b",
   "metadata": {
    "jp-MarkdownHeadingCollapsed": true
   },
   "source": [
    "### .unique() and .nunique()"
   ]
  },
  {
   "cell_type": "code",
   "execution_count": 11,
   "id": "25f59096-2306-4503-a4eb-947cf0a7b693",
   "metadata": {},
   "outputs": [
    {
     "data": {
      "text/plain": [
       "Gender    2\n",
       "dtype: int64"
      ]
     },
     "execution_count": 11,
     "metadata": {},
     "output_type": "execute_result"
    }
   ],
   "source": [
    "#.unique and .nunique()\n",
    "project_16.select_dtypes(include = \"object\").nunique()"
   ]
  },
  {
   "cell_type": "code",
   "execution_count": 12,
   "id": "1bbb4d84-6758-4658-82ca-6d0cb454713d",
   "metadata": {},
   "outputs": [
    {
     "data": {
      "text/plain": [
       "array(['male', 'female'], dtype=object)"
      ]
     },
     "execution_count": 12,
     "metadata": {},
     "output_type": "execute_result"
    }
   ],
   "source": [
    "project_16[\"Gender\"].unique()"
   ]
  },
  {
   "cell_type": "markdown",
   "id": "aa444594-8e95-4113-a90e-daa3c5b9dac9",
   "metadata": {
    "jp-MarkdownHeadingCollapsed": true
   },
   "source": [
    "### .value_counts()"
   ]
  },
  {
   "cell_type": "code",
   "execution_count": 13,
   "id": "7dda369f-fa35-45c3-9b7a-b21e8cfabeb8",
   "metadata": {},
   "outputs": [
    {
     "data": {
      "text/plain": [
       "Gender\n",
       "female    7553\n",
       "male      7447\n",
       "Name: count, dtype: int64"
      ]
     },
     "execution_count": 13,
     "metadata": {},
     "output_type": "execute_result"
    }
   ],
   "source": [
    "project_16[\"Gender\"].value_counts()"
   ]
  },
  {
   "cell_type": "code",
   "execution_count": 14,
   "id": "7c90ff86-b174-4928-8a03-9b050c2949c0",
   "metadata": {},
   "outputs": [
    {
     "data": {
      "image/png": "[encoded data removed]",
      "text/plain": [
       "<Figure size 1000x600 with 1 Axes>"
      ]
     },
     "metadata": {},
     "output_type": "display_data"
    }
   ],
   "source": [
    "import seaborn as sns\n",
    "import matplotlib.pyplot as plt\n",
    "\n",
    "# project_16[\"Gender\"].value_counts() ifadesini bir değişkene atayalım\n",
    "gender_counts = project_16[\"Gender\"].value_counts()\n",
    "\n",
    "# Barplot oluşturmak için Matplotlib'i kullanıyoruz\n",
    "plt.figure(figsize=(10, 6))\n",
    "bars = plt.barh(gender_counts.index, gender_counts.values, color=sns.color_palette('viridis', len(gender_counts)), height=0.4)\n",
    "\n",
    "# Barların üzerine sayıları ekleyelim\n",
    "for bar in bars:\n",
    "    width = bar.get_width()\n",
    "    plt.text(width + 1, bar.get_y() + bar.get_height()/2, int(width), va='center', fontsize=12)\n",
    "\n",
    "# Grafik başlığı ve eksen etiketlerini ekleyelim\n",
    "plt.title('Gender Distribution', fontsize=16)\n",
    "plt.xlabel('Count', fontsize=14)\n",
    "plt.ylabel('Gender', fontsize=14)\n",
    "\n",
    "# Grafiği gösterelim\n",
    "plt.show()\n"
   ]
  },
  {
   "cell_type": "markdown",
   "id": "4941ccad-d1db-43a6-a4a9-c5e68ea914c5",
   "metadata": {
    "jp-MarkdownHeadingCollapsed": true
   },
   "source": [
    "### Distplots of Numerical Features and .skew()"
   ]
  },
  {
   "cell_type": "code",
   "execution_count": 15,
   "id": "371cf655-8249-4823-83eb-8ffd09c8ca6c",
   "metadata": {},
   "outputs": [
    {
     "data": {
      "image/png": "[encoded data removed]",
      "text/plain": [
       "<Figure size 900x500 with 1 Axes>"
      ]
     },
     "metadata": {},
     "output_type": "display_data"
    },
    {
     "data": {
      "image/png": "[encoded data removed]",
      "text/plain": [
       "<Figure size 900x500 with 1 Axes>"
      ]
     },
     "metadata": {},
     "output_type": "display_data"
    },
    {
     "data": {
      "image/png": "[encoded data removed]",
      "text/plain": [
       "<Figure size 900x500 with 1 Axes>"
      ]
     },
     "metadata": {},
     "output_type": "display_data"
    },
    {
     "data": {
      "image/png": "[encoded data removed]",
      "text/plain": [
       "<Figure size 900x500 with 1 Axes>"
      ]
     },
     "metadata": {},
     "output_type": "display_data"
    },
    {
     "data": {
      "image/png": "[encoded data removed]",
      "text/plain": [
       "<Figure size 900x500 with 1 Axes>"
      ]
     },
     "metadata": {},
     "output_type": "display_data"
    },
    {
     "data": {
      "image/png": "[encoded data removed]",
      "text/plain": [
       "<Figure size 900x500 with 1 Axes>"
      ]
     },
     "metadata": {},
     "output_type": "display_data"
    },
    {
     "data": {
      "image/png": "[encoded data removed]",
      "text/plain": [
       "<Figure size 900x500 with 1 Axes>"
      ]
     },
     "metadata": {},
     "output_type": "display_data"
    }
   ],
   "source": [
    "for column in project_16.select_dtypes(include = [\"float64\", \"int64\"]):\n",
    "    plt.figure(figsize=(9, 5))\n",
    "    sns.histplot(data=project_16, x=column, kde=True, bins=30)\n",
    "    plt.title(f'Distribution of {column}')\n",
    "    plt.show()"
   ]
  },
  {
   "cell_type": "code",
   "execution_count": 16,
   "id": "32620722-e9b0-485e-b3a6-c63b060fca11",
   "metadata": {},
   "outputs": [
    {
     "name": "stdout",
     "output_type": "stream",
     "text": [
      "Age           0.473383\n",
      "Height       -0.006190\n",
      "Weight        0.226725\n",
      "Duration      0.004751\n",
      "Heart_Rate   -0.010704\n",
      "Body_Temp    -0.994382\n",
      "Calories      0.505371\n",
      "dtype: float64 \n",
      "\n"
     ]
    },
    {
     "data": {
      "text/plain": [
       "np.float64(0.02842197188126207)"
      ]
     },
     "execution_count": 16,
     "metadata": {},
     "output_type": "execute_result"
    }
   ],
   "source": [
    "#.skew()\n",
    "print(project_16.select_dtypes(include = [\"int64\", \"float64\"]).skew(), \"\\n\")\n",
    "project_16.select_dtypes(include = [\"int64\", \"float64\"]).skew().mean()"
   ]
  },
  {
   "cell_type": "markdown",
   "id": "7fcb8d27-40bc-4ab3-87cc-581e19044507",
   "metadata": {
    "jp-MarkdownHeadingCollapsed": true
   },
   "source": [
    "### .isnull().sum()"
   ]
  },
  {
   "cell_type": "code",
   "execution_count": 17,
   "id": "ac3746b9-bcf0-4727-bec5-61c3a41349bc",
   "metadata": {},
   "outputs": [
    {
     "data": {
      "text/plain": [
       "Gender        0\n",
       "Age           0\n",
       "Height        0\n",
       "Weight        0\n",
       "Duration      0\n",
       "Heart_Rate    0\n",
       "Body_Temp     0\n",
       "Calories      0\n",
       "dtype: int64"
      ]
     },
     "execution_count": 17,
     "metadata": {},
     "output_type": "execute_result"
    }
   ],
   "source": [
    "project_16.isnull().sum()"
   ]
  },
  {
   "cell_type": "markdown",
   "id": "2979fb98-2d6a-4bd6-a387-46dd87bc4508",
   "metadata": {
    "jp-MarkdownHeadingCollapsed": true
   },
   "source": [
    "### .duplicated and .drop_duplicates()"
   ]
  },
  {
   "cell_type": "code",
   "execution_count": 18,
   "id": "e5ec7215-fea9-4d54-9efc-73aed55161a6",
   "metadata": {},
   "outputs": [
    {
     "data": {
      "text/plain": [
       "np.int64(1)"
      ]
     },
     "execution_count": 18,
     "metadata": {},
     "output_type": "execute_result"
    }
   ],
   "source": [
    "project_16.duplicated().sum()"
   ]
  },
  {
   "cell_type": "code",
   "execution_count": 19,
   "id": "14c74c63-f82b-429c-a72f-825790efc181",
   "metadata": {},
   "outputs": [
    {
     "data": {
      "text/html": [
       "<div>\n",
       "<style scoped>\n",
       "    .dataframe tbody tr th:only-of-type {\n",
       "        vertical-align: middle;\n",
       "    }\n",
       "\n",
       "    .dataframe tbody tr th {\n",
       "        vertical-align: top;\n",
       "    }\n",
       "\n",
       "    .dataframe thead th {\n",
       "        text-align: right;\n",
       "    }\n",
       "</style>\n",
       "<table border=\"1\" class=\"dataframe\">\n",
       "  <thead>\n",
       "    <tr style=\"text-align: right;\">\n",
       "      <th></th>\n",
       "      <th>Gender</th>\n",
       "      <th>Age</th>\n",
       "      <th>Height</th>\n",
       "      <th>Weight</th>\n",
       "      <th>Duration</th>\n",
       "      <th>Heart_Rate</th>\n",
       "      <th>Body_Temp</th>\n",
       "      <th>Calories</th>\n",
       "    </tr>\n",
       "  </thead>\n",
       "  <tbody>\n",
       "    <tr>\n",
       "      <th>12852</th>\n",
       "      <td>female</td>\n",
       "      <td>28</td>\n",
       "      <td>164.0</td>\n",
       "      <td>59.0</td>\n",
       "      <td>9.0</td>\n",
       "      <td>90.0</td>\n",
       "      <td>39.5</td>\n",
       "      <td>40.0</td>\n",
       "    </tr>\n",
       "  </tbody>\n",
       "</table>\n",
       "</div>"
      ],
      "text/plain": [
       "       Gender  Age  Height  Weight  Duration  Heart_Rate  Body_Temp  Calories\n",
       "12852  female   28   164.0    59.0       9.0        90.0       39.5      40.0"
      ]
     },
     "execution_count": 19,
     "metadata": {},
     "output_type": "execute_result"
    }
   ],
   "source": [
    "#Tekrar eden satır: \n",
    "project_16[project_16.duplicated()]"
   ]
  },
  {
   "cell_type": "code",
   "execution_count": 20,
   "id": "88b03992-3160-4524-9219-0fc85e2aaafa",
   "metadata": {},
   "outputs": [
    {
     "data": {
      "text/html": [
       "<div>\n",
       "<style scoped>\n",
       "    .dataframe tbody tr th:only-of-type {\n",
       "        vertical-align: middle;\n",
       "    }\n",
       "\n",
       "    .dataframe tbody tr th {\n",
       "        vertical-align: top;\n",
       "    }\n",
       "\n",
       "    .dataframe thead th {\n",
       "        text-align: right;\n",
       "    }\n",
       "</style>\n",
       "<table border=\"1\" class=\"dataframe\">\n",
       "  <thead>\n",
       "    <tr style=\"text-align: right;\">\n",
       "      <th></th>\n",
       "      <th>Gender</th>\n",
       "      <th>Age</th>\n",
       "      <th>Height</th>\n",
       "      <th>Weight</th>\n",
       "      <th>Duration</th>\n",
       "      <th>Heart_Rate</th>\n",
       "      <th>Body_Temp</th>\n",
       "      <th>Calories</th>\n",
       "    </tr>\n",
       "  </thead>\n",
       "  <tbody>\n",
       "    <tr>\n",
       "      <th>0</th>\n",
       "      <td>male</td>\n",
       "      <td>68</td>\n",
       "      <td>190.0</td>\n",
       "      <td>94.0</td>\n",
       "      <td>29.0</td>\n",
       "      <td>105.0</td>\n",
       "      <td>40.8</td>\n",
       "      <td>231.0</td>\n",
       "    </tr>\n",
       "    <tr>\n",
       "      <th>1</th>\n",
       "      <td>female</td>\n",
       "      <td>20</td>\n",
       "      <td>166.0</td>\n",
       "      <td>60.0</td>\n",
       "      <td>14.0</td>\n",
       "      <td>94.0</td>\n",
       "      <td>40.3</td>\n",
       "      <td>66.0</td>\n",
       "    </tr>\n",
       "    <tr>\n",
       "      <th>2</th>\n",
       "      <td>male</td>\n",
       "      <td>69</td>\n",
       "      <td>179.0</td>\n",
       "      <td>79.0</td>\n",
       "      <td>5.0</td>\n",
       "      <td>88.0</td>\n",
       "      <td>38.7</td>\n",
       "      <td>26.0</td>\n",
       "    </tr>\n",
       "    <tr>\n",
       "      <th>3</th>\n",
       "      <td>female</td>\n",
       "      <td>34</td>\n",
       "      <td>179.0</td>\n",
       "      <td>71.0</td>\n",
       "      <td>13.0</td>\n",
       "      <td>100.0</td>\n",
       "      <td>40.5</td>\n",
       "      <td>71.0</td>\n",
       "    </tr>\n",
       "    <tr>\n",
       "      <th>4</th>\n",
       "      <td>female</td>\n",
       "      <td>27</td>\n",
       "      <td>154.0</td>\n",
       "      <td>58.0</td>\n",
       "      <td>10.0</td>\n",
       "      <td>81.0</td>\n",
       "      <td>39.8</td>\n",
       "      <td>35.0</td>\n",
       "    </tr>\n",
       "    <tr>\n",
       "      <th>...</th>\n",
       "      <td>...</td>\n",
       "      <td>...</td>\n",
       "      <td>...</td>\n",
       "      <td>...</td>\n",
       "      <td>...</td>\n",
       "      <td>...</td>\n",
       "      <td>...</td>\n",
       "      <td>...</td>\n",
       "    </tr>\n",
       "    <tr>\n",
       "      <th>14995</th>\n",
       "      <td>female</td>\n",
       "      <td>20</td>\n",
       "      <td>193.0</td>\n",
       "      <td>86.0</td>\n",
       "      <td>11.0</td>\n",
       "      <td>92.0</td>\n",
       "      <td>40.4</td>\n",
       "      <td>45.0</td>\n",
       "    </tr>\n",
       "    <tr>\n",
       "      <th>14996</th>\n",
       "      <td>female</td>\n",
       "      <td>27</td>\n",
       "      <td>165.0</td>\n",
       "      <td>65.0</td>\n",
       "      <td>6.0</td>\n",
       "      <td>85.0</td>\n",
       "      <td>39.2</td>\n",
       "      <td>23.0</td>\n",
       "    </tr>\n",
       "    <tr>\n",
       "      <th>14997</th>\n",
       "      <td>female</td>\n",
       "      <td>43</td>\n",
       "      <td>159.0</td>\n",
       "      <td>58.0</td>\n",
       "      <td>16.0</td>\n",
       "      <td>90.0</td>\n",
       "      <td>40.1</td>\n",
       "      <td>75.0</td>\n",
       "    </tr>\n",
       "    <tr>\n",
       "      <th>14998</th>\n",
       "      <td>male</td>\n",
       "      <td>78</td>\n",
       "      <td>193.0</td>\n",
       "      <td>97.0</td>\n",
       "      <td>2.0</td>\n",
       "      <td>84.0</td>\n",
       "      <td>38.3</td>\n",
       "      <td>11.0</td>\n",
       "    </tr>\n",
       "    <tr>\n",
       "      <th>14999</th>\n",
       "      <td>male</td>\n",
       "      <td>63</td>\n",
       "      <td>173.0</td>\n",
       "      <td>79.0</td>\n",
       "      <td>18.0</td>\n",
       "      <td>92.0</td>\n",
       "      <td>40.5</td>\n",
       "      <td>98.0</td>\n",
       "    </tr>\n",
       "  </tbody>\n",
       "</table>\n",
       "<p>14999 rows × 8 columns</p>\n",
       "</div>"
      ],
      "text/plain": [
       "       Gender  Age  Height  Weight  Duration  Heart_Rate  Body_Temp  Calories\n",
       "0        male   68   190.0    94.0      29.0       105.0       40.8     231.0\n",
       "1      female   20   166.0    60.0      14.0        94.0       40.3      66.0\n",
       "2        male   69   179.0    79.0       5.0        88.0       38.7      26.0\n",
       "3      female   34   179.0    71.0      13.0       100.0       40.5      71.0\n",
       "4      female   27   154.0    58.0      10.0        81.0       39.8      35.0\n",
       "...       ...  ...     ...     ...       ...         ...        ...       ...\n",
       "14995  female   20   193.0    86.0      11.0        92.0       40.4      45.0\n",
       "14996  female   27   165.0    65.0       6.0        85.0       39.2      23.0\n",
       "14997  female   43   159.0    58.0      16.0        90.0       40.1      75.0\n",
       "14998    male   78   193.0    97.0       2.0        84.0       38.3      11.0\n",
       "14999    male   63   173.0    79.0      18.0        92.0       40.5      98.0\n",
       "\n",
       "[14999 rows x 8 columns]"
      ]
     },
     "execution_count": 20,
     "metadata": {},
     "output_type": "execute_result"
    }
   ],
   "source": [
    "#Tekrar eden satırın temizlenmesi \n",
    "project_16.drop_duplicates()"
   ]
  },
  {
   "cell_type": "markdown",
   "id": "93c9d85c-82c0-4bd3-acf4-c5affcbee496",
   "metadata": {
    "jp-MarkdownHeadingCollapsed": true
   },
   "source": [
    "### .corr() and heatmap()"
   ]
  },
  {
   "cell_type": "code",
   "execution_count": 21,
   "id": "dd120dbf-6311-4154-9bf9-274eafe80623",
   "metadata": {},
   "outputs": [
    {
     "data": {
      "text/plain": [
       "<Axes: >"
      ]
     },
     "execution_count": 21,
     "metadata": {},
     "output_type": "execute_result"
    },
    {
     "data": {
      "image/png": "[encoded data removed]",
      "text/plain": [
       "<Figure size 640x480 with 2 Axes>"
      ]
     },
     "metadata": {},
     "output_type": "display_data"
    }
   ],
   "source": [
    "cor = project_16.select_dtypes(include = [\"int64\", \"float64\"]).drop(columns = \"Calories\", axis = 1).corr()\n",
    "sns.heatmap(cor, annot=True, cmap='coolwarm')"
   ]
  },
  {
   "cell_type": "markdown",
   "id": "85c220fa-5388-481c-b5b9-38b7eb002ca4",
   "metadata": {},
   "source": [
    "+ `Height - Weight` | `Duration - Heart_Rate`, `Duration - Body_Temp` | `Heart_Rate - Body_Temp` korelasyonları gözleniyor. Bu korelasyonlardan kurtulabilmek için feature engineering, PCA, VIF kontorlü gibi teknikleri veya modeli kurarken Ridge, Lasso gibi modelleri kullancağız. "
   ]
  },
  {
   "cell_type": "code",
   "execution_count": 22,
   "id": "4f33b008-378f-4370-a888-3faebce35228",
   "metadata": {},
   "outputs": [],
   "source": [
    "#Height ve Weight sütunlarını kullanarak 'Bmi' adlı sütunu oluşturma\n",
    "#ve ardından bu iki sütunu veri setinden kaldırma: \n",
    "project_16[\"Height_cm\"] = project_16[\"Height\"]/100\n",
    "project_16[\"Bmi\"] = project_16['Weight'] / (project_16['Height_cm'] ** 2)\n",
    "project_16 = project_16.drop(columns = [\"Height\", \"Weight\", \"Height_cm\"], axis = 1)"
   ]
  },
  {
   "cell_type": "code",
   "execution_count": 23,
   "id": "95205aea-12c8-4119-8ebe-802cc31b9838",
   "metadata": {},
   "outputs": [
    {
     "data": {
      "text/html": [
       "<div>\n",
       "<style scoped>\n",
       "    .dataframe tbody tr th:only-of-type {\n",
       "        vertical-align: middle;\n",
       "    }\n",
       "\n",
       "    .dataframe tbody tr th {\n",
       "        vertical-align: top;\n",
       "    }\n",
       "\n",
       "    .dataframe thead th {\n",
       "        text-align: right;\n",
       "    }\n",
       "</style>\n",
       "<table border=\"1\" class=\"dataframe\">\n",
       "  <thead>\n",
       "    <tr style=\"text-align: right;\">\n",
       "      <th></th>\n",
       "      <th>Gender</th>\n",
       "      <th>Age</th>\n",
       "      <th>Duration</th>\n",
       "      <th>Heart_Rate</th>\n",
       "      <th>Body_Temp</th>\n",
       "      <th>Calories</th>\n",
       "      <th>Bmi</th>\n",
       "    </tr>\n",
       "  </thead>\n",
       "  <tbody>\n",
       "    <tr>\n",
       "      <th>0</th>\n",
       "      <td>male</td>\n",
       "      <td>68</td>\n",
       "      <td>29.0</td>\n",
       "      <td>105.0</td>\n",
       "      <td>40.8</td>\n",
       "      <td>231.0</td>\n",
       "      <td>26.038781</td>\n",
       "    </tr>\n",
       "    <tr>\n",
       "      <th>1</th>\n",
       "      <td>female</td>\n",
       "      <td>20</td>\n",
       "      <td>14.0</td>\n",
       "      <td>94.0</td>\n",
       "      <td>40.3</td>\n",
       "      <td>66.0</td>\n",
       "      <td>21.773842</td>\n",
       "    </tr>\n",
       "  </tbody>\n",
       "</table>\n",
       "</div>"
      ],
      "text/plain": [
       "   Gender  Age  Duration  Heart_Rate  Body_Temp  Calories        Bmi\n",
       "0    male   68      29.0       105.0       40.8     231.0  26.038781\n",
       "1  female   20      14.0        94.0       40.3      66.0  21.773842"
      ]
     },
     "execution_count": 23,
     "metadata": {},
     "output_type": "execute_result"
    }
   ],
   "source": [
    "project_16.head(2)"
   ]
  },
  {
   "cell_type": "code",
   "execution_count": 25,
   "id": "3d654474",
   "metadata": {},
   "outputs": [
    {
     "name": "stdout",
     "output_type": "stream",
     "text": [
      "      Feature         VIF\n",
      "0         Age   11.651619\n",
      "1    Duration   81.380276\n",
      "2  Heart_Rate  641.364489\n",
      "3   Body_Temp  920.009317\n",
      "4    Calories   82.842986\n",
      "5         Bmi  261.621932\n"
     ]
    }
   ],
   "source": [
    "from statsmodels.stats.outliers_influence import variance_inflation_factor\n",
    "\n",
    "# Sayısal sütunları seçin\n",
    "numeric_columns = project_16.select_dtypes(include=[np.number])\n",
    "\n",
    "# VIF hesaplaması\n",
    "vif_data = pd.DataFrame()\n",
    "vif_data[\"Feature\"] = numeric_columns.columns\n",
    "vif_data[\"VIF\"] = [variance_inflation_factor(numeric_columns.values, i) for i in range(len(numeric_columns.columns))]\n",
    "\n",
    "print(vif_data)\n"
   ]
  },
  {
   "cell_type": "markdown",
   "id": "98acf486-5d8b-40ee-b12e-26b580ff2554",
   "metadata": {},
   "source": [
    "+ Bütün sütunların VIF değeri 10'dan büyük olduğu için herhangi bir özelliği veri setinden çıkartmak yerine, ilerleyen adımlarda StandardScaler kullandıktan sonra PCA yöntemini uygulayacağız. "
   ]
  },
  {
   "cell_type": "markdown",
   "id": "ff8e4443-ab67-4741-a2f4-57492d9fbe5c",
   "metadata": {
    "jp-MarkdownHeadingCollapsed": true
   },
   "source": [
    "## LabelEncoder on `Gender` Column"
   ]
  },
  {
   "cell_type": "code",
   "execution_count": 26,
   "id": "bbc45d47",
   "metadata": {},
   "outputs": [],
   "source": [
    "encoder = LabelEncoder()\n",
    "project_16[\"Gender\"] = encoder.fit_transform(project_16[\"Gender\"].astype(\"str\"))"
   ]
  },
  {
   "cell_type": "code",
   "execution_count": 27,
   "id": "fd77dca1",
   "metadata": {},
   "outputs": [
    {
     "data": {
      "text/html": [
       "<div>\n",
       "<style scoped>\n",
       "    .dataframe tbody tr th:only-of-type {\n",
       "        vertical-align: middle;\n",
       "    }\n",
       "\n",
       "    .dataframe tbody tr th {\n",
       "        vertical-align: top;\n",
       "    }\n",
       "\n",
       "    .dataframe thead th {\n",
       "        text-align: right;\n",
       "    }\n",
       "</style>\n",
       "<table border=\"1\" class=\"dataframe\">\n",
       "  <thead>\n",
       "    <tr style=\"text-align: right;\">\n",
       "      <th></th>\n",
       "      <th>Gender</th>\n",
       "      <th>Age</th>\n",
       "      <th>Duration</th>\n",
       "      <th>Heart_Rate</th>\n",
       "      <th>Body_Temp</th>\n",
       "      <th>Calories</th>\n",
       "      <th>Bmi</th>\n",
       "    </tr>\n",
       "  </thead>\n",
       "  <tbody>\n",
       "    <tr>\n",
       "      <th>0</th>\n",
       "      <td>1</td>\n",
       "      <td>68</td>\n",
       "      <td>29.0</td>\n",
       "      <td>105.0</td>\n",
       "      <td>40.8</td>\n",
       "      <td>231.0</td>\n",
       "      <td>26.038781</td>\n",
       "    </tr>\n",
       "    <tr>\n",
       "      <th>1</th>\n",
       "      <td>0</td>\n",
       "      <td>20</td>\n",
       "      <td>14.0</td>\n",
       "      <td>94.0</td>\n",
       "      <td>40.3</td>\n",
       "      <td>66.0</td>\n",
       "      <td>21.773842</td>\n",
       "    </tr>\n",
       "    <tr>\n",
       "      <th>2</th>\n",
       "      <td>1</td>\n",
       "      <td>69</td>\n",
       "      <td>5.0</td>\n",
       "      <td>88.0</td>\n",
       "      <td>38.7</td>\n",
       "      <td>26.0</td>\n",
       "      <td>24.655910</td>\n",
       "    </tr>\n",
       "  </tbody>\n",
       "</table>\n",
       "</div>"
      ],
      "text/plain": [
       "   Gender  Age  Duration  Heart_Rate  Body_Temp  Calories        Bmi\n",
       "0       1   68      29.0       105.0       40.8     231.0  26.038781\n",
       "1       0   20      14.0        94.0       40.3      66.0  21.773842\n",
       "2       1   69       5.0        88.0       38.7      26.0  24.655910"
      ]
     },
     "execution_count": 27,
     "metadata": {},
     "output_type": "execute_result"
    }
   ],
   "source": [
    "project_16.head(3)"
   ]
  },
  {
   "cell_type": "markdown",
   "id": "0391972f-3e1a-4322-b7d9-e0328f8d255d",
   "metadata": {
    "jp-MarkdownHeadingCollapsed": true
   },
   "source": [
    "## Feature Scaling with `StandardScaler` and `PCA` but before, Splitting data "
   ]
  },
  {
   "cell_type": "markdown",
   "id": "c9c3fab7",
   "metadata": {},
   "source": [
    "### Splitting Data "
   ]
  },
  {
   "cell_type": "code",
   "execution_count": 28,
   "id": "987d2c27",
   "metadata": {},
   "outputs": [
    {
     "name": "stdout",
     "output_type": "stream",
     "text": [
      "Train setinin boyutu: (12000, 7) \n",
      " Test setinin boyutu: (3000, 7)\n"
     ]
    }
   ],
   "source": [
    "train_df, test_df = train_test_split(project_16, test_size=0.2, random_state=42)\n",
    "print(f\"Train setinin boyutu: {train_df.shape}\", \"\\n\", f\"Test setinin boyutu: {test_df.shape}\")\n"
   ]
  },
  {
   "cell_type": "code",
   "execution_count": 29,
   "id": "7a33318f",
   "metadata": {},
   "outputs": [
    {
     "data": {
      "text/html": [
       "<div>\n",
       "<style scoped>\n",
       "    .dataframe tbody tr th:only-of-type {\n",
       "        vertical-align: middle;\n",
       "    }\n",
       "\n",
       "    .dataframe tbody tr th {\n",
       "        vertical-align: top;\n",
       "    }\n",
       "\n",
       "    .dataframe thead th {\n",
       "        text-align: right;\n",
       "    }\n",
       "</style>\n",
       "<table border=\"1\" class=\"dataframe\">\n",
       "  <thead>\n",
       "    <tr style=\"text-align: right;\">\n",
       "      <th></th>\n",
       "      <th>Gender</th>\n",
       "      <th>Age</th>\n",
       "      <th>Duration</th>\n",
       "      <th>Heart_Rate</th>\n",
       "      <th>Body_Temp</th>\n",
       "      <th>Calories</th>\n",
       "      <th>Bmi</th>\n",
       "    </tr>\n",
       "  </thead>\n",
       "  <tbody>\n",
       "    <tr>\n",
       "      <th>9839</th>\n",
       "      <td>1</td>\n",
       "      <td>37</td>\n",
       "      <td>7.0</td>\n",
       "      <td>81.0</td>\n",
       "      <td>39.5</td>\n",
       "      <td>17.0</td>\n",
       "      <td>24.031709</td>\n",
       "    </tr>\n",
       "    <tr>\n",
       "      <th>9680</th>\n",
       "      <td>1</td>\n",
       "      <td>23</td>\n",
       "      <td>26.0</td>\n",
       "      <td>110.0</td>\n",
       "      <td>40.5</td>\n",
       "      <td>167.0</td>\n",
       "      <td>22.879684</td>\n",
       "    </tr>\n",
       "  </tbody>\n",
       "</table>\n",
       "</div>"
      ],
      "text/plain": [
       "      Gender  Age  Duration  Heart_Rate  Body_Temp  Calories        Bmi\n",
       "9839       1   37       7.0        81.0       39.5      17.0  24.031709\n",
       "9680       1   23      26.0       110.0       40.5     167.0  22.879684"
      ]
     },
     "execution_count": 29,
     "metadata": {},
     "output_type": "execute_result"
    }
   ],
   "source": [
    "train_df.head(2)"
   ]
  },
  {
   "cell_type": "code",
   "execution_count": 30,
   "id": "1fde5030",
   "metadata": {},
   "outputs": [
    {
     "data": {
      "text/html": [
       "<div>\n",
       "<style scoped>\n",
       "    .dataframe tbody tr th:only-of-type {\n",
       "        vertical-align: middle;\n",
       "    }\n",
       "\n",
       "    .dataframe tbody tr th {\n",
       "        vertical-align: top;\n",
       "    }\n",
       "\n",
       "    .dataframe thead th {\n",
       "        text-align: right;\n",
       "    }\n",
       "</style>\n",
       "<table border=\"1\" class=\"dataframe\">\n",
       "  <thead>\n",
       "    <tr style=\"text-align: right;\">\n",
       "      <th></th>\n",
       "      <th>Gender</th>\n",
       "      <th>Age</th>\n",
       "      <th>Duration</th>\n",
       "      <th>Heart_Rate</th>\n",
       "      <th>Body_Temp</th>\n",
       "      <th>Calories</th>\n",
       "      <th>Bmi</th>\n",
       "    </tr>\n",
       "  </thead>\n",
       "  <tbody>\n",
       "    <tr>\n",
       "      <th>11499</th>\n",
       "      <td>0</td>\n",
       "      <td>45</td>\n",
       "      <td>26.0</td>\n",
       "      <td>107.0</td>\n",
       "      <td>40.6</td>\n",
       "      <td>173.0</td>\n",
       "      <td>21.926126</td>\n",
       "    </tr>\n",
       "    <tr>\n",
       "      <th>6475</th>\n",
       "      <td>1</td>\n",
       "      <td>21</td>\n",
       "      <td>29.0</td>\n",
       "      <td>111.0</td>\n",
       "      <td>40.5</td>\n",
       "      <td>189.0</td>\n",
       "      <td>25.737081</td>\n",
       "    </tr>\n",
       "  </tbody>\n",
       "</table>\n",
       "</div>"
      ],
      "text/plain": [
       "       Gender  Age  Duration  Heart_Rate  Body_Temp  Calories        Bmi\n",
       "11499       0   45      26.0       107.0       40.6     173.0  21.926126\n",
       "6475        1   21      29.0       111.0       40.5     189.0  25.737081"
      ]
     },
     "execution_count": 30,
     "metadata": {},
     "output_type": "execute_result"
    }
   ],
   "source": [
    "test_df.head(2)"
   ]
  },
  {
   "cell_type": "markdown",
   "id": "e9617277",
   "metadata": {},
   "source": [
    "### Train ve Test Setlerine PCA "
   ]
  },
  {
   "cell_type": "code",
   "execution_count": null,
   "id": "24c05574-5ebe-40ea-aae0-91c2eac30963",
   "metadata": {},
   "outputs": [],
   "source": [
    "\"\"\"\n",
    "from sklearn.decomposition import PCA\n",
    "from sklearn.preprocessing import StandardScaler\n",
    "\n",
    "# Veriyi standartlaştırma\n",
    "scaler = StandardScaler()\n",
    "scaled_data = scaler.fit_transform(pca_16[['Duration', 'Heart_Rate', 'Body_Temp', 'Bmi']])\n",
    "\n",
    "# PCA uygulama\n",
    "pca = PCA(n_components=2)  # 2 bileşen seçerek başlayabilirsiniz\n",
    "principal_components = pca.fit_transform(scaled_data)\n",
    "\n",
    "# Yeni özellikleri veri çerçevesine ekleme\n",
    "pca_16['PCA1'] = principal_components[:, 0]\n",
    "pca_16['PCA2'] = principal_components[:, 1]\n",
    "\n",
    "#PCA1 ve PCA2 sütunlarının olduğu veri setini döndürme\n",
    "print(pca_16.head(3))\n",
    "\n",
    "# Orijinal değişkenleri çıkarma\n",
    "pca_16 = pca_16.drop(columns=['Duration', 'Heart_Rate', 'Body_Temp', 'Bmi'])\n",
    "\n",
    "# Yeni VIF hesaplaması\n",
    "print(\"\\n\")\n",
    "vif_data = pd.DataFrame()\n",
    "vif_data[\"Feature\"] = pca_16.columns\n",
    "vif_data[\"VIF\"] = [variance_inflation_factor(pca_16.values, i) for i in range(len(pca_16.columns))]\n",
    "\n",
    "print(vif_data)\n",
    "\"\"\""
   ]
  },
  {
   "cell_type": "code",
   "execution_count": 31,
   "id": "c01710cc",
   "metadata": {},
   "outputs": [],
   "source": [
    "from sklearn.decomposition import PCA\n",
    "pca_16_train = train_df\n",
    "pca_16_test = test_df\n",
    "\n",
    "#Veriyi standartlaştırma\n",
    "std_scaler = StandardScaler()\n",
    "train_std = std_scaler.fit_transform(pca_16_train[['Duration', 'Heart_Rate', 'Body_Temp', 'Bmi']])\n",
    "test_std = std_scaler.transform(pca_16_test[['Duration', 'Heart_Rate', 'Body_Temp', 'Bmi']])\n",
    "\n",
    "#PCA uygulama\n",
    "pca = PCA(n_components=2) # 2 bileşen seçerek başlayalım \n",
    "train_pca = pca.fit_transform(train_std)\n",
    "test_pca = pca.transform(test_std)\n",
    "\n",
    "#PCA'lı Train ve Test setlerini oluşturup\n",
    "#Çoklu bağlantı sorunu olan sütunların çıkarılması\n",
    "pca_16_train[\"PCA1\"] = train_pca[:, 0]\n",
    "pca_16_train[\"PCA2\"] = train_pca[:, 1]\n",
    "pca_16_train = pca_16_train.drop(columns=['Duration', 'Heart_Rate', 'Body_Temp', 'Bmi'])\n",
    "\n",
    "pca_16_test[\"PCA1\"] = test_pca[:, 0]\n",
    "pca_16_test[\"PCA2\"] = test_pca[:, 1]\n",
    "pca_16_test = pca_16_test.drop(columns=['Duration', 'Heart_Rate', 'Body_Temp', 'Bmi'])\n"
   ]
  },
  {
   "cell_type": "code",
   "execution_count": 32,
   "id": "b388d26b",
   "metadata": {},
   "outputs": [
    {
     "data": {
      "text/html": [
       "<div>\n",
       "<style scoped>\n",
       "    .dataframe tbody tr th:only-of-type {\n",
       "        vertical-align: middle;\n",
       "    }\n",
       "\n",
       "    .dataframe tbody tr th {\n",
       "        vertical-align: top;\n",
       "    }\n",
       "\n",
       "    .dataframe thead th {\n",
       "        text-align: right;\n",
       "    }\n",
       "</style>\n",
       "<table border=\"1\" class=\"dataframe\">\n",
       "  <thead>\n",
       "    <tr style=\"text-align: right;\">\n",
       "      <th></th>\n",
       "      <th>Gender</th>\n",
       "      <th>Age</th>\n",
       "      <th>Calories</th>\n",
       "      <th>PCA1</th>\n",
       "      <th>PCA2</th>\n",
       "    </tr>\n",
       "  </thead>\n",
       "  <tbody>\n",
       "    <tr>\n",
       "      <th>9839</th>\n",
       "      <td>1</td>\n",
       "      <td>37</td>\n",
       "      <td>17.0</td>\n",
       "      <td>-1.849167</td>\n",
       "      <td>-0.179788</td>\n",
       "    </tr>\n",
       "    <tr>\n",
       "      <th>9680</th>\n",
       "      <td>1</td>\n",
       "      <td>23</td>\n",
       "      <td>167.0</td>\n",
       "      <td>1.949165</td>\n",
       "      <td>-0.961969</td>\n",
       "    </tr>\n",
       "    <tr>\n",
       "      <th>7093</th>\n",
       "      <td>1</td>\n",
       "      <td>33</td>\n",
       "      <td>40.0</td>\n",
       "      <td>-0.639631</td>\n",
       "      <td>-0.534332</td>\n",
       "    </tr>\n",
       "  </tbody>\n",
       "</table>\n",
       "</div>"
      ],
      "text/plain": [
       "      Gender  Age  Calories      PCA1      PCA2\n",
       "9839       1   37      17.0 -1.849167 -0.179788\n",
       "9680       1   23     167.0  1.949165 -0.961969\n",
       "7093       1   33      40.0 -0.639631 -0.534332"
      ]
     },
     "execution_count": 32,
     "metadata": {},
     "output_type": "execute_result"
    }
   ],
   "source": [
    "pca_16_train.head(3)"
   ]
  },
  {
   "cell_type": "code",
   "execution_count": 33,
   "id": "d29e5cd5",
   "metadata": {},
   "outputs": [
    {
     "data": {
      "text/html": [
       "<div>\n",
       "<style scoped>\n",
       "    .dataframe tbody tr th:only-of-type {\n",
       "        vertical-align: middle;\n",
       "    }\n",
       "\n",
       "    .dataframe tbody tr th {\n",
       "        vertical-align: top;\n",
       "    }\n",
       "\n",
       "    .dataframe thead th {\n",
       "        text-align: right;\n",
       "    }\n",
       "</style>\n",
       "<table border=\"1\" class=\"dataframe\">\n",
       "  <thead>\n",
       "    <tr style=\"text-align: right;\">\n",
       "      <th></th>\n",
       "      <th>Gender</th>\n",
       "      <th>Age</th>\n",
       "      <th>Calories</th>\n",
       "      <th>PCA1</th>\n",
       "      <th>PCA2</th>\n",
       "    </tr>\n",
       "  </thead>\n",
       "  <tbody>\n",
       "    <tr>\n",
       "      <th>11499</th>\n",
       "      <td>0</td>\n",
       "      <td>45</td>\n",
       "      <td>173.0</td>\n",
       "      <td>1.837800</td>\n",
       "      <td>-1.575005</td>\n",
       "    </tr>\n",
       "    <tr>\n",
       "      <th>6475</th>\n",
       "      <td>1</td>\n",
       "      <td>21</td>\n",
       "      <td>189.0</td>\n",
       "      <td>2.247304</td>\n",
       "      <td>0.866651</td>\n",
       "    </tr>\n",
       "    <tr>\n",
       "      <th>13167</th>\n",
       "      <td>1</td>\n",
       "      <td>58</td>\n",
       "      <td>53.0</td>\n",
       "      <td>-0.655219</td>\n",
       "      <td>0.337453</td>\n",
       "    </tr>\n",
       "  </tbody>\n",
       "</table>\n",
       "</div>"
      ],
      "text/plain": [
       "       Gender  Age  Calories      PCA1      PCA2\n",
       "11499       0   45     173.0  1.837800 -1.575005\n",
       "6475        1   21     189.0  2.247304  0.866651\n",
       "13167       1   58      53.0 -0.655219  0.337453"
      ]
     },
     "execution_count": 33,
     "metadata": {},
     "output_type": "execute_result"
    }
   ],
   "source": [
    "pca_16_test.head(3)"
   ]
  },
  {
   "cell_type": "markdown",
   "id": "332bc40b-317a-4ecb-998a-136a1c01894a",
   "metadata": {},
   "source": [
    "## Separating Data "
   ]
  },
  {
   "cell_type": "code",
   "execution_count": 34,
   "id": "4615fbc3",
   "metadata": {},
   "outputs": [],
   "source": [
    "X_train = pca_16_train.drop(columns=\"Calories\", axis = 1)\n",
    "y_train = pca_16_train[\"Calories\"]\n",
    "\n",
    "X_test = pca_16_test.drop(columns=\"Calories\", axis = 1)\n",
    "y_test = pca_16_test[\"Calories\"]"
   ]
  },
  {
   "cell_type": "code",
   "execution_count": 35,
   "id": "2c0b954b",
   "metadata": {},
   "outputs": [
    {
     "name": "stdout",
     "output_type": "stream",
     "text": [
      "X_train boyutu: (12000, 4) \n",
      " X_test boyutu: (3000, 4) \n",
      " y_train boyutu: (12000,) \n",
      " y_test boyutu: (3000,)\n"
     ]
    }
   ],
   "source": [
    "print(f\"X_train boyutu: {X_train.shape}\", \"\\n\", f\"X_test boyutu: {X_test.shape}\",\n",
    "      \"\\n\", f\"y_train boyutu: {y_train.shape}\", \"\\n\", f\"y_test boyutu: {y_test.shape}\")"
   ]
  },
  {
   "cell_type": "markdown",
   "id": "4da2260c-9dfd-4565-8966-979d97ab1e87",
   "metadata": {},
   "source": [
    "## Fitting Model and Compare with DummyRegressor on `pca_16` Dataset"
   ]
  },
  {
   "cell_type": "code",
   "execution_count": 36,
   "id": "8264eeab-d9ef-4c55-a2a2-825496a4b46c",
   "metadata": {},
   "outputs": [],
   "source": [
    "from sklearn.dummy import DummyRegressor\n",
    "dummy = DummyRegressor(strategy = \"mean\").fit(X_train, y_train)"
   ]
  },
  {
   "cell_type": "code",
   "execution_count": 37,
   "id": "fac50e5d-2181-4535-b5ab-380466d57803",
   "metadata": {},
   "outputs": [
    {
     "name": "stdout",
     "output_type": "stream",
     "text": [
      "DummyRegressor'un Test Setindeki Skoru: -0.0012218149445957227\n"
     ]
    }
   ],
   "source": [
    "print(\"DummyRegressor'un Test Setindeki Skoru:\", dummy.score(X_test, y_test))"
   ]
  },
  {
   "cell_type": "code",
   "execution_count": 43,
   "id": "8bcba658-7f54-492e-a38b-8f56beca4537",
   "metadata": {},
   "outputs": [],
   "source": [
    "from sklearn.tree import DecisionTreeRegressor\n",
    "from sklearn.ensemble import RandomForestRegressor, GradientBoostingRegressor, AdaBoostRegressor\n",
    "from sklearn.neighbors import KNeighborsRegressor\n",
    "from sklearn.linear_model import LinearRegression, Lasso, Ridge\n",
    "from sklearn.svm import SVR\n",
    "from xgboost import XGBRegressor\n",
    "from sklearn.metrics import mean_squared_error, r2_score\n",
    "import time"
   ]
  },
  {
   "cell_type": "code",
   "execution_count": 44,
   "id": "d0a979e2-de5b-402b-890c-9721e70ee1a8",
   "metadata": {},
   "outputs": [],
   "source": [
    "regression_models = {\"Decision Tree\": DecisionTreeRegressor(),\n",
    "                   \"Random Forest\": RandomForestRegressor(),\n",
    "                   \"Gradient Boosting\": GradientBoostingRegressor(),\n",
    "                   \"Ada Boost\": AdaBoostRegressor(),\n",
    "                   \"KNN\": KNeighborsRegressor(),\n",
    "                   \"Linear Regression\": LinearRegression(),\n",
    "                   \"Lasso Regression\": Lasso(),\n",
    "                   \"Ridge Regression\": Ridge(),\n",
    "                   \"Linear SVR\": SVR(kernel = \"linear\"),\n",
    "                   \"RBF SVR\": SVR(kernel = \"rbf\"),\n",
    "                   \"Polynomial SVR\": SVR(kernel = \"poly\"),\n",
    "                    \"XG Boost\": XGBRegressor()}"
   ]
  },
  {
   "cell_type": "code",
   "execution_count": 47,
   "id": "14bad4a0-5ab9-4eb9-8e6b-5ae43710a247",
   "metadata": {},
   "outputs": [
    {
     "name": "stdout",
     "output_type": "stream",
     "text": [
      "Decision Tree Train setindeki doğruluk: 1.0\n",
      "Decision Tree Test setindeki doğruluk: 0.9701263059112104\n",
      "Decision Tree MSE Skoru: 120.564\n",
      "Decision Tree R^2 Skoru: 0.9701263059112104\n",
      "Eğitim Süresi: 0.06360554695129395 \n",
      "\n",
      "Random Forest Train setindeki doğruluk: 0.9976121646599211\n",
      "Random Forest Test setindeki doğruluk: 0.984236676145443\n",
      "Random Forest MSE Skoru: 63.61748806666666\n",
      "Random Forest R^2 Skoru: 0.984236676145443\n",
      "Eğitim Süresi: 4.332284212112427 \n",
      "\n",
      "Gradient Boosting Train setindeki doğruluk: 0.9859258061203557\n",
      "Gradient Boosting Test setindeki doğruluk: 0.9857640698161675\n",
      "Gradient Boosting MSE Skoru: 57.453245707823484\n",
      "Gradient Boosting R^2 Skoru: 0.9857640698161675\n",
      "Eğitim Süresi: 1.5647306442260742 \n",
      "\n",
      "Ada Boost Train setindeki doğruluk: 0.9690143072488652\n",
      "Ada Boost Test setindeki doğruluk: 0.9698027589037996\n",
      "Ada Boost MSE Skoru: 121.86976825502552\n",
      "Ada Boost R^2 Skoru: 0.9698027589037996\n",
      "Eğitim Süresi: 0.5266923904418945 \n",
      "\n",
      "KNN Train setindeki doğruluk: 0.9817207448146285\n",
      "KNN Test setindeki doğruluk: 0.9733231344405819\n",
      "KNN MSE Skoru: 107.66226666666667\n",
      "KNN R^2 Skoru: 0.9733231344405819\n",
      "Eğitim Süresi: 0.009468793869018555 \n",
      "\n",
      "Linear Regression Train setindeki doğruluk: 0.9110273872677835\n",
      "Linear Regression Test setindeki doğruluk: 0.9112705355101877\n",
      "Linear Regression MSE Skoru: 358.0936165763353\n",
      "Linear Regression R^2 Skoru: 0.9112705355101877\n",
      "Eğitim Süresi: 0.0019979476928710938 \n",
      "\n",
      "Lasso Regression Train setindeki doğruluk: 0.9108567564001668\n",
      "Lasso Regression Test setindeki doğruluk: 0.9108354094663691\n",
      "Lasso Regression MSE Skoru: 359.84969455554403\n",
      "Lasso Regression R^2 Skoru: 0.9108354094663691\n",
      "Eğitim Süresi: 0.003999948501586914 \n",
      "\n",
      "Ridge Regression Train setindeki doğruluk: 0.9110273863908629\n",
      "Ridge Regression Test setindeki doğruluk: 0.9112700786323578\n",
      "Ridge Regression MSE Skoru: 358.09546043998733\n",
      "Ridge Regression R^2 Skoru: 0.9112700786323578\n",
      "Eğitim Süresi: 0.001998424530029297 \n",
      "\n",
      "Linear SVR Train setindeki doğruluk: 0.9060304290727487\n",
      "Linear SVR Test setindeki doğruluk: 0.9053569957210326\n",
      "Linear SVR MSE Skoru: 381.95943005827877\n",
      "Linear SVR R^2 Skoru: 0.9053569957210326\n",
      "Eğitim Süresi: 7.208246231079102 \n",
      "\n",
      "RBF SVR Train setindeki doğruluk: 0.5656642868773215\n",
      "RBF SVR Test setindeki doğruluk: 0.5546862055636064\n",
      "RBF SVR MSE Skoru: 1797.1936163253652\n",
      "RBF SVR R^2 Skoru: 0.5546862055636064\n",
      "Eğitim Süresi: 6.236628293991089 \n",
      "\n",
      "Polynomial SVR Train setindeki doğruluk: 0.6112318558405951\n",
      "Polynomial SVR Test setindeki doğruluk: 0.6074768275571727\n",
      "Polynomial SVR MSE Skoru: 1584.141674000605\n",
      "Polynomial SVR R^2 Skoru: 0.6074768275571727\n",
      "Eğitim Süresi: 4.697795152664185 \n",
      "\n",
      "XG Boost Train setindeki doğruluk: 0.9925899629580257\n",
      "XG Boost Test setindeki doğruluk: 0.9847067192693061\n",
      "XG Boost MSE Skoru: 61.72049203340056\n",
      "XG Boost R^2 Skoru: 0.9847067192693061\n",
      "Eğitim Süresi: 0.08370804786682129 \n",
      "\n"
     ]
    }
   ],
   "source": [
    "model_names = []\n",
    "train_score = []\n",
    "test_score = []\n",
    "mse_score = []\n",
    "r2score = []\n",
    "\n",
    "for name, reg in regression_models.items():\n",
    "    start_time = time.time()\n",
    "    reg.fit(X_train, y_train)\n",
    "    end_time = time.time()\n",
    "    predictions = reg.predict(X_test)\n",
    "    score_train = reg.score(X_train, y_train)\n",
    "    score_test = reg.score(X_test, y_test)\n",
    "    score_mse = mean_squared_error(y_test, predictions)\n",
    "    score_r2 = r2_score(y_test, predictions)\n",
    "    \n",
    "    model_names.append(name)\n",
    "    train_score.append(score_train)\n",
    "    test_score.append(score_test)\n",
    "    mse_score.append(score_mse)\n",
    "    r2score.append(score_r2)\n",
    "    \n",
    "    print(f\"{name} Train setindeki doğruluk: {score_train}\")\n",
    "    print(f\"{name} Test setindeki doğruluk: {score_test}\")\n",
    "    print(f\"{name} MSE Skoru: {score_mse}\")\n",
    "    print(f\"{name} R^2 Skoru: {score_r2}\")\n",
    "    print(f\"Eğitim Süresi: {end_time - start_time}\", \"\\n\")"
   ]
  },
  {
   "cell_type": "markdown",
   "id": "78da3833",
   "metadata": {},
   "source": [
    "+ En uygun modelin **XGBoost** olduğu görülüyor. Bu modeli, uygulamada kullanmak için tekrar oluşturalım. "
   ]
  },
  {
   "cell_type": "markdown",
   "id": "31a6977d",
   "metadata": {},
   "source": [
    "### XGBoostRegressor Modelinin Yeniden Kurulması"
   ]
  },
  {
   "cell_type": "code",
   "execution_count": 48,
   "id": "bf98b1e8",
   "metadata": {},
   "outputs": [
    {
     "data": {
      "text/html": [
       "<style>#sk-container-id-1 {\n",
       "  /* Definition of color scheme common for light and dark mode */\n",
       "  --sklearn-color-text: black;\n",
       "  --sklearn-color-line: gray;\n",
       "  /* Definition of color scheme for unfitted estimators */\n",
       "  --sklearn-color-unfitted-level-0: #fff5e6;\n",
       "  --sklearn-color-unfitted-level-1: #f6e4d2;\n",
       "  --sklearn-color-unfitted-level-2: #ffe0b3;\n",
       "  --sklearn-color-unfitted-level-3: chocolate;\n",
       "  /* Definition of color scheme for fitted estimators */\n",
       "  --sklearn-color-fitted-level-0: #f0f8ff;\n",
       "  --sklearn-color-fitted-level-1: #d4ebff;\n",
       "  --sklearn-color-fitted-level-2: #b3dbfd;\n",
       "  --sklearn-color-fitted-level-3: cornflowerblue;\n",
       "\n",
       "  /* Specific color for light theme */\n",
       "  --sklearn-color-text-on-default-background: var(--sg-text-color, var(--theme-code-foreground, var(--jp-content-font-color1, black)));\n",
       "  --sklearn-color-background: var(--sg-background-color, var(--theme-background, var(--jp-layout-color0, white)));\n",
       "  --sklearn-color-border-box: var(--sg-text-color, var(--theme-code-foreground, var(--jp-content-font-color1, black)));\n",
       "  --sklearn-color-icon: #696969;\n",
       "\n",
       "  @media (prefers-color-scheme: dark) {\n",
       "    /* Redefinition of color scheme for dark theme */\n",
       "    --sklearn-color-text-on-default-background: var(--sg-text-color, var(--theme-code-foreground, var(--jp-content-font-color1, white)));\n",
       "    --sklearn-color-background: var(--sg-background-color, var(--theme-background, var(--jp-layout-color0, #111)));\n",
       "    --sklearn-color-border-box: var(--sg-text-color, var(--theme-code-foreground, var(--jp-content-font-color1, white)));\n",
       "    --sklearn-color-icon: #878787;\n",
       "  }\n",
       "}\n",
       "\n",
       "#sk-container-id-1 {\n",
       "  color: var(--sklearn-color-text);\n",
       "}\n",
       "\n",
       "#sk-container-id-1 pre {\n",
       "  padding: 0;\n",
       "}\n",
       "\n",
       "#sk-container-id-1 input.sk-hidden--visually {\n",
       "  border: 0;\n",
       "  clip: rect(1px 1px 1px 1px);\n",
       "  clip: rect(1px, 1px, 1px, 1px);\n",
       "  height: 1px;\n",
       "  margin: -1px;\n",
       "  overflow: hidden;\n",
       "  padding: 0;\n",
       "  position: absolute;\n",
       "  width: 1px;\n",
       "}\n",
       "\n",
       "#sk-container-id-1 div.sk-dashed-wrapped {\n",
       "  border: 1px dashed var(--sklearn-color-line);\n",
       "  margin: 0 0.4em 0.5em 0.4em;\n",
       "  box-sizing: border-box;\n",
       "  padding-bottom: 0.4em;\n",
       "  background-color: var(--sklearn-color-background);\n",
       "}\n",
       "\n",
       "#sk-container-id-1 div.sk-container {\n",
       "  /* jupyter's `normalize.less` sets `[hidden] { display: none; }`\n",
       "     but bootstrap.min.css set `[hidden] { display: none !important; }`\n",
       "     so we also need the `!important` here to be able to override the\n",
       "     default hidden behavior on the sphinx rendered scikit-learn.org.\n",
       "     See: https://github.com/scikit-learn/scikit-learn/issues/21755 */\n",
       "  display: inline-block !important;\n",
       "  position: relative;\n",
       "}\n",
       "\n",
       "#sk-container-id-1 div.sk-text-repr-fallback {\n",
       "  display: none;\n",
       "}\n",
       "\n",
       "div.sk-parallel-item,\n",
       "div.sk-serial,\n",
       "div.sk-item {\n",
       "  /* draw centered vertical line to link estimators */\n",
       "  background-image: linear-gradient(var(--sklearn-color-text-on-default-background), var(--sklearn-color-text-on-default-background));\n",
       "  background-size: 2px 100%;\n",
       "  background-repeat: no-repeat;\n",
       "  background-position: center center;\n",
       "}\n",
       "\n",
       "/* Parallel-specific style estimator block */\n",
       "\n",
       "#sk-container-id-1 div.sk-parallel-item::after {\n",
       "  content: \"\";\n",
       "  width: 100%;\n",
       "  border-bottom: 2px solid var(--sklearn-color-text-on-default-background);\n",
       "  flex-grow: 1;\n",
       "}\n",
       "\n",
       "#sk-container-id-1 div.sk-parallel {\n",
       "  display: flex;\n",
       "  align-items: stretch;\n",
       "  justify-content: center;\n",
       "  background-color: var(--sklearn-color-background);\n",
       "  position: relative;\n",
       "}\n",
       "\n",
       "#sk-container-id-1 div.sk-parallel-item {\n",
       "  display: flex;\n",
       "  flex-direction: column;\n",
       "}\n",
       "\n",
       "#sk-container-id-1 div.sk-parallel-item:first-child::after {\n",
       "  align-self: flex-end;\n",
       "  width: 50%;\n",
       "}\n",
       "\n",
       "#sk-container-id-1 div.sk-parallel-item:last-child::after {\n",
       "  align-self: flex-start;\n",
       "  width: 50%;\n",
       "}\n",
       "\n",
       "#sk-container-id-1 div.sk-parallel-item:only-child::after {\n",
       "  width: 0;\n",
       "}\n",
       "\n",
       "/* Serial-specific style estimator block */\n",
       "\n",
       "#sk-container-id-1 div.sk-serial {\n",
       "  display: flex;\n",
       "  flex-direction: column;\n",
       "  align-items: center;\n",
       "  background-color: var(--sklearn-color-background);\n",
       "  padding-right: 1em;\n",
       "  padding-left: 1em;\n",
       "}\n",
       "\n",
       "\n",
       "/* Toggleable style: style used for estimator/Pipeline/ColumnTransformer box that is\n",
       "clickable and can be expanded/collapsed.\n",
       "- Pipeline and ColumnTransformer use this feature and define the default style\n",
       "- Estimators will overwrite some part of the style using the `sk-estimator` class\n",
       "*/\n",
       "\n",
       "/* Pipeline and ColumnTransformer style (default) */\n",
       "\n",
       "#sk-container-id-1 div.sk-toggleable {\n",
       "  /* Default theme specific background. It is overwritten whether we have a\n",
       "  specific estimator or a Pipeline/ColumnTransformer */\n",
       "  background-color: var(--sklearn-color-background);\n",
       "}\n",
       "\n",
       "/* Toggleable label */\n",
       "#sk-container-id-1 label.sk-toggleable__label {\n",
       "  cursor: pointer;\n",
       "  display: block;\n",
       "  width: 100%;\n",
       "  margin-bottom: 0;\n",
       "  padding: 0.5em;\n",
       "  box-sizing: border-box;\n",
       "  text-align: center;\n",
       "}\n",
       "\n",
       "#sk-container-id-1 label.sk-toggleable__label-arrow:before {\n",
       "  /* Arrow on the left of the label */\n",
       "  content: \"▸\";\n",
       "  float: left;\n",
       "  margin-right: 0.25em;\n",
       "  color: var(--sklearn-color-icon);\n",
       "}\n",
       "\n",
       "#sk-container-id-1 label.sk-toggleable__label-arrow:hover:before {\n",
       "  color: var(--sklearn-color-text);\n",
       "}\n",
       "\n",
       "/* Toggleable content - dropdown */\n",
       "\n",
       "#sk-container-id-1 div.sk-toggleable__content {\n",
       "  max-height: 0;\n",
       "  max-width: 0;\n",
       "  overflow: hidden;\n",
       "  text-align: left;\n",
       "  /* unfitted */\n",
       "  background-color: var(--sklearn-color-unfitted-level-0);\n",
       "}\n",
       "\n",
       "#sk-container-id-1 div.sk-toggleable__content.fitted {\n",
       "  /* fitted */\n",
       "  background-color: var(--sklearn-color-fitted-level-0);\n",
       "}\n",
       "\n",
       "#sk-container-id-1 div.sk-toggleable__content pre {\n",
       "  margin: 0.2em;\n",
       "  border-radius: 0.25em;\n",
       "  color: var(--sklearn-color-text);\n",
       "  /* unfitted */\n",
       "  background-color: var(--sklearn-color-unfitted-level-0);\n",
       "}\n",
       "\n",
       "#sk-container-id-1 div.sk-toggleable__content.fitted pre {\n",
       "  /* unfitted */\n",
       "  background-color: var(--sklearn-color-fitted-level-0);\n",
       "}\n",
       "\n",
       "#sk-container-id-1 input.sk-toggleable__control:checked~div.sk-toggleable__content {\n",
       "  /* Expand drop-down */\n",
       "  max-height: 200px;\n",
       "  max-width: 100%;\n",
       "  overflow: auto;\n",
       "}\n",
       "\n",
       "#sk-container-id-1 input.sk-toggleable__control:checked~label.sk-toggleable__label-arrow:before {\n",
       "  content: \"▾\";\n",
       "}\n",
       "\n",
       "/* Pipeline/ColumnTransformer-specific style */\n",
       "\n",
       "#sk-container-id-1 div.sk-label input.sk-toggleable__control:checked~label.sk-toggleable__label {\n",
       "  color: var(--sklearn-color-text);\n",
       "  background-color: var(--sklearn-color-unfitted-level-2);\n",
       "}\n",
       "\n",
       "#sk-container-id-1 div.sk-label.fitted input.sk-toggleable__control:checked~label.sk-toggleable__label {\n",
       "  background-color: var(--sklearn-color-fitted-level-2);\n",
       "}\n",
       "\n",
       "/* Estimator-specific style */\n",
       "\n",
       "/* Colorize estimator box */\n",
       "#sk-container-id-1 div.sk-estimator input.sk-toggleable__control:checked~label.sk-toggleable__label {\n",
       "  /* unfitted */\n",
       "  background-color: var(--sklearn-color-unfitted-level-2);\n",
       "}\n",
       "\n",
       "#sk-container-id-1 div.sk-estimator.fitted input.sk-toggleable__control:checked~label.sk-toggleable__label {\n",
       "  /* fitted */\n",
       "  background-color: var(--sklearn-color-fitted-level-2);\n",
       "}\n",
       "\n",
       "#sk-container-id-1 div.sk-label label.sk-toggleable__label,\n",
       "#sk-container-id-1 div.sk-label label {\n",
       "  /* The background is the default theme color */\n",
       "  color: var(--sklearn-color-text-on-default-background);\n",
       "}\n",
       "\n",
       "/* On hover, darken the color of the background */\n",
       "#sk-container-id-1 div.sk-label:hover label.sk-toggleable__label {\n",
       "  color: var(--sklearn-color-text);\n",
       "  background-color: var(--sklearn-color-unfitted-level-2);\n",
       "}\n",
       "\n",
       "/* Label box, darken color on hover, fitted */\n",
       "#sk-container-id-1 div.sk-label.fitted:hover label.sk-toggleable__label.fitted {\n",
       "  color: var(--sklearn-color-text);\n",
       "  background-color: var(--sklearn-color-fitted-level-2);\n",
       "}\n",
       "\n",
       "/* Estimator label */\n",
       "\n",
       "#sk-container-id-1 div.sk-label label {\n",
       "  font-family: monospace;\n",
       "  font-weight: bold;\n",
       "  display: inline-block;\n",
       "  line-height: 1.2em;\n",
       "}\n",
       "\n",
       "#sk-container-id-1 div.sk-label-container {\n",
       "  text-align: center;\n",
       "}\n",
       "\n",
       "/* Estimator-specific */\n",
       "#sk-container-id-1 div.sk-estimator {\n",
       "  font-family: monospace;\n",
       "  border: 1px dotted var(--sklearn-color-border-box);\n",
       "  border-radius: 0.25em;\n",
       "  box-sizing: border-box;\n",
       "  margin-bottom: 0.5em;\n",
       "  /* unfitted */\n",
       "  background-color: var(--sklearn-color-unfitted-level-0);\n",
       "}\n",
       "\n",
       "#sk-container-id-1 div.sk-estimator.fitted {\n",
       "  /* fitted */\n",
       "  background-color: var(--sklearn-color-fitted-level-0);\n",
       "}\n",
       "\n",
       "/* on hover */\n",
       "#sk-container-id-1 div.sk-estimator:hover {\n",
       "  /* unfitted */\n",
       "  background-color: var(--sklearn-color-unfitted-level-2);\n",
       "}\n",
       "\n",
       "#sk-container-id-1 div.sk-estimator.fitted:hover {\n",
       "  /* fitted */\n",
       "  background-color: var(--sklearn-color-fitted-level-2);\n",
       "}\n",
       "\n",
       "/* Specification for estimator info (e.g. \"i\" and \"?\") */\n",
       "\n",
       "/* Common style for \"i\" and \"?\" */\n",
       "\n",
       ".sk-estimator-doc-link,\n",
       "a:link.sk-estimator-doc-link,\n",
       "a:visited.sk-estimator-doc-link {\n",
       "  float: right;\n",
       "  font-size: smaller;\n",
       "  line-height: 1em;\n",
       "  font-family: monospace;\n",
       "  background-color: var(--sklearn-color-background);\n",
       "  border-radius: 1em;\n",
       "  height: 1em;\n",
       "  width: 1em;\n",
       "  text-decoration: none !important;\n",
       "  margin-left: 1ex;\n",
       "  /* unfitted */\n",
       "  border: var(--sklearn-color-unfitted-level-1) 1pt solid;\n",
       "  color: var(--sklearn-color-unfitted-level-1);\n",
       "}\n",
       "\n",
       ".sk-estimator-doc-link.fitted,\n",
       "a:link.sk-estimator-doc-link.fitted,\n",
       "a:visited.sk-estimator-doc-link.fitted {\n",
       "  /* fitted */\n",
       "  border: var(--sklearn-color-fitted-level-1) 1pt solid;\n",
       "  color: var(--sklearn-color-fitted-level-1);\n",
       "}\n",
       "\n",
       "/* On hover */\n",
       "div.sk-estimator:hover .sk-estimator-doc-link:hover,\n",
       ".sk-estimator-doc-link:hover,\n",
       "div.sk-label-container:hover .sk-estimator-doc-link:hover,\n",
       ".sk-estimator-doc-link:hover {\n",
       "  /* unfitted */\n",
       "  background-color: var(--sklearn-color-unfitted-level-3);\n",
       "  color: var(--sklearn-color-background);\n",
       "  text-decoration: none;\n",
       "}\n",
       "\n",
       "div.sk-estimator.fitted:hover .sk-estimator-doc-link.fitted:hover,\n",
       ".sk-estimator-doc-link.fitted:hover,\n",
       "div.sk-label-container:hover .sk-estimator-doc-link.fitted:hover,\n",
       ".sk-estimator-doc-link.fitted:hover {\n",
       "  /* fitted */\n",
       "  background-color: var(--sklearn-color-fitted-level-3);\n",
       "  color: var(--sklearn-color-background);\n",
       "  text-decoration: none;\n",
       "}\n",
       "\n",
       "/* Span, style for the box shown on hovering the info icon */\n",
       ".sk-estimator-doc-link span {\n",
       "  display: none;\n",
       "  z-index: 9999;\n",
       "  position: relative;\n",
       "  font-weight: normal;\n",
       "  right: .2ex;\n",
       "  padding: .5ex;\n",
       "  margin: .5ex;\n",
       "  width: min-content;\n",
       "  min-width: 20ex;\n",
       "  max-width: 50ex;\n",
       "  color: var(--sklearn-color-text);\n",
       "  box-shadow: 2pt 2pt 4pt #999;\n",
       "  /* unfitted */\n",
       "  background: var(--sklearn-color-unfitted-level-0);\n",
       "  border: .5pt solid var(--sklearn-color-unfitted-level-3);\n",
       "}\n",
       "\n",
       ".sk-estimator-doc-link.fitted span {\n",
       "  /* fitted */\n",
       "  background: var(--sklearn-color-fitted-level-0);\n",
       "  border: var(--sklearn-color-fitted-level-3);\n",
       "}\n",
       "\n",
       ".sk-estimator-doc-link:hover span {\n",
       "  display: block;\n",
       "}\n",
       "\n",
       "/* \"?\"-specific style due to the `<a>` HTML tag */\n",
       "\n",
       "#sk-container-id-1 a.estimator_doc_link {\n",
       "  float: right;\n",
       "  font-size: 1rem;\n",
       "  line-height: 1em;\n",
       "  font-family: monospace;\n",
       "  background-color: var(--sklearn-color-background);\n",
       "  border-radius: 1rem;\n",
       "  height: 1rem;\n",
       "  width: 1rem;\n",
       "  text-decoration: none;\n",
       "  /* unfitted */\n",
       "  color: var(--sklearn-color-unfitted-level-1);\n",
       "  border: var(--sklearn-color-unfitted-level-1) 1pt solid;\n",
       "}\n",
       "\n",
       "#sk-container-id-1 a.estimator_doc_link.fitted {\n",
       "  /* fitted */\n",
       "  border: var(--sklearn-color-fitted-level-1) 1pt solid;\n",
       "  color: var(--sklearn-color-fitted-level-1);\n",
       "}\n",
       "\n",
       "/* On hover */\n",
       "#sk-container-id-1 a.estimator_doc_link:hover {\n",
       "  /* unfitted */\n",
       "  background-color: var(--sklearn-color-unfitted-level-3);\n",
       "  color: var(--sklearn-color-background);\n",
       "  text-decoration: none;\n",
       "}\n",
       "\n",
       "#sk-container-id-1 a.estimator_doc_link.fitted:hover {\n",
       "  /* fitted */\n",
       "  background-color: var(--sklearn-color-fitted-level-3);\n",
       "}\n",
       "</style><div id=\"sk-container-id-1\" class=\"sk-top-container\"><div class=\"sk-text-repr-fallback\"><pre>XGBRegressor(base_score=None, booster=None, callbacks=None,\n",
       "             colsample_bylevel=None, colsample_bynode=None,\n",
       "             colsample_bytree=None, device=None, early_stopping_rounds=None,\n",
       "             enable_categorical=False, eval_metric=None, feature_types=None,\n",
       "             gamma=None, grow_policy=None, importance_type=None,\n",
       "             interaction_constraints=None, learning_rate=None, max_bin=None,\n",
       "             max_cat_threshold=None, max_cat_to_onehot=None,\n",
       "             max_delta_step=None, max_depth=None, max_leaves=None,\n",
       "             min_child_weight=None, missing=nan, monotone_constraints=None,\n",
       "             multi_strategy=None, n_estimators=None, n_jobs=None,\n",
       "             num_parallel_tree=None, random_state=None, ...)</pre><b>In a Jupyter environment, please rerun this cell to show the HTML representation or trust the notebook. <br />On GitHub, the HTML representation is unable to render, please try loading this page with nbviewer.org.</b></div><div class=\"sk-container\" hidden><div class=\"sk-item\"><div class=\"sk-estimator fitted sk-toggleable\"><input class=\"sk-toggleable__control sk-hidden--visually\" id=\"sk-estimator-id-1\" type=\"checkbox\" checked><label for=\"sk-estimator-id-1\" class=\"sk-toggleable__label fitted sk-toggleable__label-arrow fitted\">&nbsp;XGBRegressor<span class=\"sk-estimator-doc-link fitted\">i<span>Fitted</span></span></label><div class=\"sk-toggleable__content fitted\"><pre>XGBRegressor(base_score=None, booster=None, callbacks=None,\n",
       "             colsample_bylevel=None, colsample_bynode=None,\n",
       "             colsample_bytree=None, device=None, early_stopping_rounds=None,\n",
       "             enable_categorical=False, eval_metric=None, feature_types=None,\n",
       "             gamma=None, grow_policy=None, importance_type=None,\n",
       "             interaction_constraints=None, learning_rate=None, max_bin=None,\n",
       "             max_cat_threshold=None, max_cat_to_onehot=None,\n",
       "             max_delta_step=None, max_depth=None, max_leaves=None,\n",
       "             min_child_weight=None, missing=nan, monotone_constraints=None,\n",
       "             multi_strategy=None, n_estimators=None, n_jobs=None,\n",
       "             num_parallel_tree=None, random_state=None, ...)</pre></div> </div></div></div></div>"
      ],
      "text/plain": [
       "XGBRegressor(base_score=None, booster=None, callbacks=None,\n",
       "             colsample_bylevel=None, colsample_bynode=None,\n",
       "             colsample_bytree=None, device=None, early_stopping_rounds=None,\n",
       "             enable_categorical=False, eval_metric=None, feature_types=None,\n",
       "             gamma=None, grow_policy=None, importance_type=None,\n",
       "             interaction_constraints=None, learning_rate=None, max_bin=None,\n",
       "             max_cat_threshold=None, max_cat_to_onehot=None,\n",
       "             max_delta_step=None, max_depth=None, max_leaves=None,\n",
       "             min_child_weight=None, missing=nan, monotone_constraints=None,\n",
       "             multi_strategy=None, n_estimators=None, n_jobs=None,\n",
       "             num_parallel_tree=None, random_state=None, ...)"
      ]
     },
     "execution_count": 48,
     "metadata": {},
     "output_type": "execute_result"
    }
   ],
   "source": [
    "xgboost = XGBRegressor()\n",
    "xgboost.fit(X_train, y_train)"
   ]
  },
  {
   "cell_type": "code",
   "execution_count": 49,
   "id": "2cf206e8",
   "metadata": {},
   "outputs": [
    {
     "name": "stdout",
     "output_type": "stream",
     "text": [
      "XGBRegressor'un Train setindeki doğruluk: 0.9925899629580257\n",
      "XGBRegressor'un Test setindeki doğruluk: 0.9847067192693061\n",
      "XGBRegressor'un MSE Skoru: 61.72049203340056\n",
      "XGBRegressor'un R^2 Skoru: 0.9847067192693061\n"
     ]
    }
   ],
   "source": [
    "xg_pred = xgboost.predict(X_test)\n",
    "\n",
    "\n",
    "print(f\"XGBRegressor'un Train setindeki doğruluk: {xgboost.score(X_train, y_train)}\")\n",
    "print(f\"XGBRegressor'un Test setindeki doğruluk: {xgboost.score(X_test, y_test)}\")\n",
    "print(f\"XGBRegressor'un MSE Skoru: {mean_squared_error(y_test, xg_pred)}\")\n",
    "print(f\"XGBRegressor'un R^2 Skoru: {r2_score(y_test, xg_pred)}\")"
   ]
  }
 ],
 "metadata": {
  "kernelspec": {
   "display_name": "Python 3 (ipykernel)",
   "language": "python",
   "name": "python3"
  },
  "language_info": {
   "codemirror_mode": {
    "name": "ipython",
    "version": 3
   },
   "file_extension": ".py",
   "mimetype": "text/x-python",
   "name": "python",
   "nbconvert_exporter": "python",
   "pygments_lexer": "ipython3",
   "version": "3.12.4"
  }
 },
 "nbformat": 4,
 "nbformat_minor": 5
}
